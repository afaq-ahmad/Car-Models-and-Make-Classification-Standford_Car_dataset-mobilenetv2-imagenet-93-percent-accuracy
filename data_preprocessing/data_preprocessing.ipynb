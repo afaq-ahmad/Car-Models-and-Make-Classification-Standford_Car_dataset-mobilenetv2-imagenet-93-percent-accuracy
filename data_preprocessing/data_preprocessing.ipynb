{
 "cells": [
  {
   "cell_type": "code",
   "execution_count": 4,
   "metadata": {},
   "outputs": [],
   "source": [
    "import scipy.io\n",
    "import cv2"
   ]
  },
  {
   "cell_type": "code",
   "execution_count": 5,
   "metadata": {},
   "outputs": [],
   "source": [
    "import numpy as np\n",
    "import os\n",
    "from keras.preprocessing.image import ImageDataGenerator, img_to_array, load_img, array_to_img, save_img\n",
    "import os\n",
    "from matplotlib import pyplot as plt\n",
    "import numpy as np\n",
    "import os\n",
    "import math"
   ]
  },
  {
   "cell_type": "code",
   "execution_count": 6,
   "metadata": {},
   "outputs": [],
   "source": [
    "def mess_up_colors(x):\n",
    "    for channel in range(3):\n",
    "        intensity = np.random.uniform(0,1.5)\n",
    "        x[:,:,channel] *= intensity\n",
    "    return np.clip(x, 0, 255)\n",
    "\n",
    "def swith_colors(x):\n",
    "    channels = np.random.permutation(x.shape[2])\n",
    "    x = x[:,:,channels]\n",
    "    return x\n",
    "\n",
    "\n",
    "generator = ImageDataGenerator(\n",
    "    horizontal_flip=True,\n",
    "    rotation_range=15,\n",
    "    shear_range=15,\n",
    "    brightness_range=(0.5, 2),\n",
    "    fill_mode='constant',\n",
    "    cval=0,\n",
    ")"
   ]
  },
  {
   "cell_type": "code",
   "execution_count": null,
   "metadata": {},
   "outputs": [],
   "source": []
  },
  {
   "cell_type": "markdown",
   "metadata": {},
   "source": [
    "### Car Train Images Crop"
   ]
  },
  {
   "cell_type": "code",
   "execution_count": 8,
   "metadata": {
    "scrolled": true
   },
   "outputs": [],
   "source": [
    "mat = scipy.io.loadmat('devkit/cars_meta.mat')\n",
    "Car_Names=[]\n",
    "for i in range(len(mat['class_names'][0])):\n",
    "    Car_Names.append(mat['class_names'][0][i][0])\n",
    "    \n",
    "mat = scipy.io.loadmat('devkit/cars_train_annos.mat')\n",
    "for z in range(len(mat['annotations'][0])):\n",
    "    \n",
    "    x1=mat['annotations'][0][z][0][0][0]\n",
    "    y1=mat['annotations'][0][z][1][0][0]\n",
    "    x2=mat['annotations'][0][z][2][0][0]\n",
    "    y2=mat['annotations'][0][z][3][0][0]\n",
    "    class_name=mat['annotations'][0][z][4][0][0]\n",
    "    file_name=mat['annotations'][0][z][5][0]\n",
    "\n",
    "    img=cv2.imread('cars_train/'+file_name)\n",
    "\n",
    "    dl_path='Cropped_images/'+Car_Names[class_name-1]\n",
    "\n",
    "    if not os.path.exists(dl_path):\n",
    "        os.makedirs(dl_path)\n",
    "    img=cv2.resize(img[y1:y2,x1:x2],(224,224))\n",
    "    \n",
    "    \n",
    "    cv2.imwrite(dl_path+'/'+file_name,img)\n",
    "    \n",
    "#     for i in range(20):\n",
    "        \n",
    "#         x_transformed = generator.random_transform(img)\n",
    "#         should_mess_up_colors = np.random.choice([0,1])\n",
    "#         if should_mess_up_colors == 1:\n",
    "#             x_transformed = mess_up_colors(x_transformed)\n",
    "#         else:\n",
    "#             x_transformed = swith_colors(x_transformed)\n",
    "\n",
    "\n",
    "#         img_transformed = array_to_img(x_transformed)\n",
    "#         save_img(dl_path+'/'+str(i)+'_'+file_name,img_transformed)\n",
    "    if z%100==0:\n",
    "        print ('Number of images cropped: ',z)"
   ]
  },
  {
   "cell_type": "code",
   "execution_count": null,
   "metadata": {},
   "outputs": [],
   "source": []
  },
  {
   "cell_type": "markdown",
   "metadata": {},
   "source": [
    "### Car Test Image Crop"
   ]
  },
  {
   "cell_type": "code",
   "execution_count": 127,
   "metadata": {},
   "outputs": [],
   "source": [
    "mat = scipy.io.loadmat('devkit/cars_test_annos.mat')\n",
    "for z in range(len(mat['annotations'][0])):\n",
    "    \n",
    "    x1=mat['annotations'][0][z][0][0][0]\n",
    "    y1=mat['annotations'][0][z][1][0][0]\n",
    "    x2=mat['annotations'][0][z][2][0][0]\n",
    "    y2=mat['annotations'][0][z][3][0][0]\n",
    "    file_name=mat['annotations'][0][z][4][0]\n",
    "\n",
    "    img=cv2.imread('cars_test/'+file_name)\n",
    "\n",
    "    dl_path='Cropped_images_test_images/'\n",
    "\n",
    "    if not os.path.exists(dl_path):\n",
    "        os.makedirs(dl_path)\n",
    "        \n",
    "    img=cv2.resize(img[y1:y2,x1:x2],(224,224))\n",
    "    cv2.imwrite(dl_path+file_name,img)"
   ]
  },
  {
   "cell_type": "code",
   "execution_count": null,
   "metadata": {},
   "outputs": [],
   "source": [
    "x = base_model.output\n",
    "x = GlobalAveragePooling2D()(x)\n",
    "# let's add a fully-connected layer\n",
    "x = Dense(1024, activation='relu')(x)\n",
    "# and a logistic layer -- let's say we have 200 classes\n",
    "predictions = Dense(200, activation='softmax')(x)\n",
    "\n",
    "# this is the model we will train\n",
    "model = Model(inputs=base_model.input, outputs=predictions)"
   ]
  },
  {
   "cell_type": "code",
   "execution_count": null,
   "metadata": {},
   "outputs": [],
   "source": []
  },
  {
   "cell_type": "code",
   "execution_count": 20,
   "metadata": {},
   "outputs": [],
   "source": []
  }
 ],
 "metadata": {
  "kernelspec": {
   "display_name": "Python 3",
   "language": "python",
   "name": "python3"
  },
  "language_info": {
   "codemirror_mode": {
    "name": "ipython",
    "version": 3
   },
   "file_extension": ".py",
   "mimetype": "text/x-python",
   "name": "python",
   "nbconvert_exporter": "python",
   "pygments_lexer": "ipython3",
   "version": "3.6.7"
  }
 },
 "nbformat": 4,
 "nbformat_minor": 2
}
